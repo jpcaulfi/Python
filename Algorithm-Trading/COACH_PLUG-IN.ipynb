{
 "cells": [
  {
   "cell_type": "code",
   "execution_count": 1,
   "metadata": {},
   "outputs": [
    {
     "data": {
      "application/javascript": [
       "IPython.OutputArea.prototype._should_scroll = function(lines) {\n",
       "    return false;\n",
       "}\n"
      ],
      "text/plain": [
       "<IPython.core.display.Javascript object>"
      ]
     },
     "metadata": {},
     "output_type": "display_data"
    }
   ],
   "source": [
    "%%javascript\n",
    "IPython.OutputArea.prototype._should_scroll = function(lines) {\n",
    "    return false;\n",
    "}"
   ]
  },
  {
   "cell_type": "code",
   "execution_count": 2,
   "metadata": {},
   "outputs": [],
   "source": [
    "from datetime import datetime as dt\n",
    "from datetime import timedelta\n",
    "import time\n",
    "import numpy as np\n",
    "import pandas as pd\n",
    "import math\n",
    "from scipy import stats\n",
    "from scipy.signal import argrelextrema\n",
    "import statsmodels.api as sm\n",
    "from sympy import *\n",
    "import pytz\n",
    "import itertools\n",
    "from itertools import combinations\n",
    "from itertools import product\n",
    "from itertools import groupby\n",
    "from pandas.plotting import register_matplotlib_converters\n",
    "register_matplotlib_converters()\n",
    "import MetaTrader5 as mt5"
   ]
  },
  {
   "cell_type": "code",
   "execution_count": 3,
   "metadata": {},
   "outputs": [],
   "source": [
    "if not mt5.initialize(path=\"C:/MetaTrader_A/MetaTrader 5/terminal64.exe\",login=1049732, server=\"TradersWay-Demo\",password=\"r5AH8znU\"):\n",
    "    print(\"initialize() failed, error code =\",mt5.last_error())\n",
    "    quit()"
   ]
  },
  {
   "cell_type": "code",
   "execution_count": 8,
   "metadata": {},
   "outputs": [
    {
     "name": "stdout",
     "output_type": "stream",
     "text": [
      "2020-08-06 15:16:18.650835\n",
      "1\n"
     ]
    },
    {
     "ename": "IndexError",
     "evalue": "tuple index out of range",
     "output_type": "error",
     "traceback": [
      "\u001b[1;31m---------------------------------------------------------------------------\u001b[0m",
      "\u001b[1;31mIndexError\u001b[0m                                Traceback (most recent call last)",
      "\u001b[1;32m<ipython-input-8-649c5cd3f154>\u001b[0m in \u001b[0;36m<module>\u001b[1;34m\u001b[0m\n\u001b[0;32m     28\u001b[0m \u001b[1;33m\u001b[0m\u001b[0m\n\u001b[0;32m     29\u001b[0m \u001b[0mdeals\u001b[0m \u001b[1;33m=\u001b[0m \u001b[0mmt5\u001b[0m\u001b[1;33m.\u001b[0m\u001b[0mhistory_orders_get\u001b[0m\u001b[1;33m(\u001b[0m\u001b[0mfrom_date\u001b[0m\u001b[1;33m,\u001b[0m \u001b[0mto_date\u001b[0m\u001b[1;33m)\u001b[0m\u001b[1;33m\u001b[0m\u001b[1;33m\u001b[0m\u001b[0m\n\u001b[1;32m---> 30\u001b[1;33m \u001b[0mdf\u001b[0m \u001b[1;33m=\u001b[0m \u001b[0mpd\u001b[0m\u001b[1;33m.\u001b[0m\u001b[0mDataFrame\u001b[0m\u001b[1;33m(\u001b[0m\u001b[0mlist\u001b[0m\u001b[1;33m(\u001b[0m\u001b[0mdeals\u001b[0m\u001b[1;33m)\u001b[0m\u001b[1;33m,\u001b[0m\u001b[0mcolumns\u001b[0m\u001b[1;33m=\u001b[0m\u001b[0mdeals\u001b[0m\u001b[1;33m[\u001b[0m\u001b[1;36m0\u001b[0m\u001b[1;33m]\u001b[0m\u001b[1;33m.\u001b[0m\u001b[0m_asdict\u001b[0m\u001b[1;33m(\u001b[0m\u001b[1;33m)\u001b[0m\u001b[1;33m.\u001b[0m\u001b[0mkeys\u001b[0m\u001b[1;33m(\u001b[0m\u001b[1;33m)\u001b[0m\u001b[1;33m)\u001b[0m\u001b[1;33m\u001b[0m\u001b[1;33m\u001b[0m\u001b[0m\n\u001b[0m\u001b[0;32m     31\u001b[0m \u001b[0mdf\u001b[0m\u001b[1;33m[\u001b[0m\u001b[1;34m'time_done'\u001b[0m\u001b[1;33m]\u001b[0m \u001b[1;33m=\u001b[0m \u001b[0mpd\u001b[0m\u001b[1;33m.\u001b[0m\u001b[0mto_datetime\u001b[0m\u001b[1;33m(\u001b[0m\u001b[0mdf\u001b[0m\u001b[1;33m[\u001b[0m\u001b[1;34m'time_done'\u001b[0m\u001b[1;33m]\u001b[0m\u001b[1;33m,\u001b[0m \u001b[0munit\u001b[0m\u001b[1;33m=\u001b[0m\u001b[1;34m's'\u001b[0m\u001b[1;33m)\u001b[0m\u001b[1;33m\u001b[0m\u001b[1;33m\u001b[0m\u001b[0m\n\u001b[0;32m     32\u001b[0m \u001b[0mdf\u001b[0m \u001b[1;33m=\u001b[0m \u001b[0mdf\u001b[0m\u001b[1;33m.\u001b[0m\u001b[0mdrop\u001b[0m\u001b[1;33m(\u001b[0m\u001b[0mcolumns\u001b[0m\u001b[1;33m=\u001b[0m\u001b[1;33m[\u001b[0m\u001b[1;34m'ticket'\u001b[0m\u001b[1;33m,\u001b[0m \u001b[1;34m'magic'\u001b[0m\u001b[1;33m,\u001b[0m \u001b[1;34m'position_by_id'\u001b[0m\u001b[1;33m,\u001b[0m \u001b[1;34m'reason'\u001b[0m\u001b[1;33m,\u001b[0m \u001b[1;34m'time_setup'\u001b[0m\u001b[1;33m,\u001b[0m \u001b[1;34m'time_setup_msc'\u001b[0m\u001b[1;33m,\u001b[0m \u001b[1;34m'time_done_msc'\u001b[0m\u001b[1;33m,\u001b[0m \u001b[1;34m'time_expiration'\u001b[0m\u001b[1;33m,\u001b[0m \u001b[1;34m'type_time'\u001b[0m\u001b[1;33m,\u001b[0m \u001b[1;34m'type_filling'\u001b[0m\u001b[1;33m,\u001b[0m \u001b[1;34m'external_id'\u001b[0m\u001b[1;33m]\u001b[0m\u001b[1;33m)\u001b[0m\u001b[1;33m\u001b[0m\u001b[1;33m\u001b[0m\u001b[0m\n",
      "\u001b[1;31mIndexError\u001b[0m: tuple index out of range"
     ]
    }
   ],
   "source": [
    "to_date=dt.now()\n",
    "delta1=timedelta(\n",
    "    days=0,\n",
    "    seconds=0,\n",
    "    microseconds=0,\n",
    "    milliseconds=0,\n",
    "    minutes=0,\n",
    "    hours=1,\n",
    "    weeks=0\n",
    ")\n",
    "from_date = to_date + delta1\n",
    "delta2=timedelta(\n",
    "    days=0,\n",
    "    seconds=0,\n",
    "    microseconds=0,\n",
    "    milliseconds=0,\n",
    "    minutes=30,\n",
    "    hours=0,\n",
    "    weeks=0\n",
    ")\n",
    "now_date = dt(2020,8,6,4,0,0)\n",
    "if now_date < from_date:\n",
    "    lesser = 1\n",
    "else:\n",
    "    lesser = 0\n",
    "print(datediff)\n",
    "print(lesser)\n"
   ]
  },
  {
   "cell_type": "code",
   "execution_count": null,
   "metadata": {},
   "outputs": [],
   "source": []
  },
  {
   "cell_type": "code",
   "execution_count": 16,
   "metadata": {},
   "outputs": [
    {
     "name": "stdout",
     "output_type": "stream",
     "text": [
      "Starting with date  : 2020-08-05 22:00:00\n",
      " \n",
      " \n",
      "Trades placed by BRUTUS gauge\n",
      " \n",
      "                           symbol  type    entry       tp       sl\n",
      "time                                                              \n",
      "2020-08-06 00:15:06+00:00  GBPNZD  LONG  1.97784  1.98262  1.97258\n",
      "2020-08-06 01:20:08+00:00  GBPNZD  LONG  1.97648  1.98262  1.97258\n",
      "2020-08-06 01:25:09+00:00  GBPNZD  LONG  1.97664  1.98262  1.97258\n",
      " \n",
      " \n"
     ]
    }
   ],
   "source": [
    "#to_date=dt.now()\n",
    "#delta1=timedelta(\n",
    "#    days=0,\n",
    "#    seconds=0,\n",
    "#    microseconds=0,\n",
    "#    milliseconds=0,\n",
    "#    minutes=0,\n",
    "#    hours=1,\n",
    "#    weeks=0\n",
    "#)\n",
    "\n",
    "to_date=dt(2020,8,6,6,0,0)\n",
    "delta1=timedelta(\n",
    "    days=0,\n",
    "    seconds=0,\n",
    "    microseconds=0,\n",
    "    milliseconds=0,\n",
    "    minutes=0,\n",
    "    hours=8,\n",
    "    weeks=0\n",
    ")\n",
    "\n",
    "from_date = to_date - delta1\n",
    "\n",
    "try:\n",
    "    deals = mt5.history_orders_get(from_date, to_date)\n",
    "    df = pd.DataFrame(list(deals),columns=deals[0]._asdict().keys())\n",
    "    df['time_done'] = pd.to_datetime(df['time_done'], unit='s')\n",
    "    df = df.drop(columns=['ticket', 'magic', 'position_by_id', 'reason', 'time_setup', 'time_setup_msc', 'time_done_msc', 'time_expiration', 'type_time', 'type_filling', 'external_id'])\n",
    "    aggregation_functions = {'time_done': 'first', 'type': 'first', 'state': 'count', 'volume_initial': 'first', 'volume_current': 'first', 'price_open': 'first', 'sl': 'first', 'tp': 'first', 'price_current': 'first', 'price_stoplimit': 'last', 'symbol': 'first', 'comment': 'first'}\n",
    "    df = df.groupby(df['position_id']).aggregate(aggregation_functions)\n",
    "\n",
    "    block = pd.DataFrame(df, columns=['comment', 'state', 'symbol', 'type', 'time_done', 'price_current', 'tp', 'sl'])\n",
    "    block = block.sort_values(by=['comment', 'time_done'])\n",
    "\n",
    "    testa = pd.DataFrame(block[(block.comment == \"BRUTUS gauge\") & (block.state == 2)])\n",
    "    testa = testa.drop(columns=['comment','state'])\n",
    "    testa['type'] = np.where(testa['type'] == 1, \"SHORT\",\"LONG\")\n",
    "    testa.columns = ['symbol', 'type', 'time', 'entry', 'tp', 'sl']\n",
    "    testa = testa.set_index('time')\n",
    "    testa = testa.tz_localize('Etc/GMT-7')\n",
    "    testa = testa.tz_convert('UTC')\n",
    "\n",
    "    print(\"Starting with date  :\",from_date)\n",
    "    print(\" \")\n",
    "    print(\" \")\n",
    "    print(\"Trades placed by BRUTUS gauge\")\n",
    "    print(\" \")\n",
    "    print(testa)\n",
    "    print(\" \")\n",
    "    print(\" \")\n",
    "except IndexError:\n",
    "    print(\"No Trades  from \",from_date,\" to \",to_date)"
   ]
  },
  {
   "cell_type": "code",
   "execution_count": 25,
   "metadata": {},
   "outputs": [
    {
     "name": "stdout",
     "output_type": "stream",
     "text": [
      "[('GBPNZD', 'LONG'), ('GBPNZD', 'LONG'), ('GBPNZD', 'LONG')]\n"
     ]
    }
   ],
   "source": [
    "penis = list(testa['symbol'])\n",
    "ballsac = list(testa['type'])\n",
    "genitals = list(zip(penis,ballsac))\n",
    "print(genitals)"
   ]
  },
  {
   "cell_type": "code",
   "execution_count": 27,
   "metadata": {},
   "outputs": [
    {
     "name": "stdout",
     "output_type": "stream",
     "text": [
      "FUCK\n",
      "FUCK\n",
      "FUCK\n"
     ]
    }
   ],
   "source": [
    "G = (\"GBPNZD\",\"LONG\")\n",
    "for g in genitals:\n",
    "    if g == G:\n",
    "        print(\"FUCK\")"
   ]
  },
  {
   "cell_type": "code",
   "execution_count": null,
   "metadata": {},
   "outputs": [],
   "source": []
  }
 ],
 "metadata": {
  "kernelspec": {
   "display_name": "Python 3",
   "language": "python",
   "name": "python3"
  },
  "language_info": {
   "codemirror_mode": {
    "name": "ipython",
    "version": 3
   },
   "file_extension": ".py",
   "mimetype": "text/x-python",
   "name": "python",
   "nbconvert_exporter": "python",
   "pygments_lexer": "ipython3",
   "version": "3.8.3"
  }
 },
 "nbformat": 4,
 "nbformat_minor": 4
}
